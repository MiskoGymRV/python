{
  "nbformat": 4,
  "nbformat_minor": 0,
  "metadata": {
    "colab": {
      "provenance": [],
      "authorship_tag": "ABX9TyNb4u+QvWh6eAWNkm/ykH72",
      "include_colab_link": true
    },
    "kernelspec": {
      "name": "python3",
      "display_name": "Python 3"
    },
    "language_info": {
      "name": "python"
    }
  },
  "cells": [
    {
      "cell_type": "markdown",
      "metadata": {
        "id": "view-in-github",
        "colab_type": "text"
      },
      "source": [
        "<a href=\"https://colab.research.google.com/github/MiskoGymRV/python/blob/main/projekt.ipynb\" target=\"_parent\"><img src=\"https://colab.research.google.com/assets/colab-badge.svg\" alt=\"Open In Colab\"/></a>"
      ]
    },
    {
      "cell_type": "markdown",
      "source": [],
      "metadata": {
        "id": "YKF99VZNt_Tj"
      }
    },
    {
      "cell_type": "markdown",
      "source": [
        "# Kalkulačka na priemer známok\n"
      ],
      "metadata": {
        "id": "LqBpjGBqw1ct"
      }
    },
    {
      "cell_type": "code",
      "source": [
        "# prompt: vytvor program na výpočet priemeru, ak mu zadám známky nech mi vypočíta priemer\n",
        "\n",
        "def vypocitaj_priemer_znamok(znamky):\n",
        "  \"\"\"\n",
        "  Vypočíta priemer zo zoznamu známok.\n",
        "\n",
        "  Args:\n",
        "    znamky: Zoznam čísel reprezentujúcich známky.\n",
        "\n",
        "  Returns:\n",
        "    Priemer známok alebo None, ak zoznam známok je prázdny.\n",
        "  \"\"\"\n",
        "  if not znamky:\n",
        "    return None\n",
        "  return sum(znamky) / len(znamky)\n",
        "\n",
        "# Príklad použitia:\n",
        "znamky_studenta = [1, 2, 1, 3, 2]\n",
        "priemer = vypocitaj_priemer_znamok(znamky_studenta)\n",
        "\n",
        "if priemer is not None:\n",
        "  print(f\"Priemer známok je: {priemer}\")\n",
        "else:\n",
        "  print(\"Neboli zadané žiadne známky.\")\n",
        "\n",
        "# Môžete tiež požiadať používateľa o zadanie známok:\n",
        "# input_znamky_str = input(\"Zadajte známky oddelené medzerou (napr. '1 2 3 1'): \")\n",
        "# input_znamky = [int(znamka) for znamka in input_znamky_str.split()]\n",
        "# priemer_z_inputu = vypocitaj_priemer_znamok(input_znamky)\n",
        "# if priemer_z_inputu is not None:\n",
        "#   print(f\"Priemer zadaných známok je: {priemer_z_inputu}\")\n",
        "# else:\n",
        "#   print(\"Neboli zadané žiadne známky.\")"
      ],
      "metadata": {
        "colab": {
          "base_uri": "https://localhost:8080/"
        },
        "id": "xH86cDm9w_2N",
        "outputId": "4f16d248-c44f-43dc-9b41-6db914abd600"
      },
      "execution_count": 7,
      "outputs": [
        {
          "output_type": "stream",
          "name": "stdout",
          "text": [
            "Priemer známok je: 1.8\n"
          ]
        }
      ]
    },
    {
      "cell_type": "markdown",
      "source": [
        "# Program na opakovanie slovíčok\n",
        "Tento program:\n",
        "1. Zobrazí slovo v slovenčine.\n",
        "\n",
        "2. Študent napíše, čo znamená to slovo v angličtine.\n",
        "\n",
        "3. Program mu povie, či odpoveď bola správna alebo nie.\n",
        "\n",
        "4. Nakoniec ukáže skóre."
      ],
      "metadata": {
        "id": "UukCmaJoxnej"
      }
    },
    {
      "cell_type": "code",
      "source": [
        "slovicka = {\n",
        "    \"dom\": \"house\",\n",
        "    \"auto\": \"car\",\n",
        "    \"strom\": \"tree\",\n",
        "    \"kniha\": \"book\",\n",
        "    \"pes\": \"dog\"\n",
        "}\n",
        "\n",
        "skore = 0\n",
        "\n",
        "print(\"Opakovanie slovíčok - zadaj anglický preklad:\")\n",
        "\n",
        "for slovak, english in slovicka.items():\n",
        "    odpoved = input(f\"Slovo '{slovak}': \").strip().lower()\n",
        "    if odpoved == english:\n",
        "        print(\"Správne! 👍\")\n",
        "        skore += 1\n",
        "    else:\n",
        "        print(f\"Nesprávne! Správna odpoveď je '{english}'.\")\n",
        "    print()\n",
        "\n",
        "print(f\"Tvoje skóre je {skore} z {len(slovicka)}.\")"
      ],
      "metadata": {
        "colab": {
          "base_uri": "https://localhost:8080/"
        },
        "id": "oHkm2OSry473",
        "outputId": "df6e3d20-49d4-4c9d-c2fd-ef0acec435c0"
      },
      "execution_count": null,
      "outputs": [
        {
          "output_type": "stream",
          "name": "stdout",
          "text": [
            "Opakovanie slovíčok - zadaj anglický preklad:\n",
            "Slovo 'dom': house\n",
            "Správne! 👍\n",
            "\n"
          ]
        }
      ]
    }
  ]
}